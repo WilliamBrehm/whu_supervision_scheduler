{
 "cells": [
  {
   "cell_type": "code",
   "execution_count": null,
   "id": "e189f180",
   "metadata": {},
   "outputs": [],
   "source": [
    "from whu_supervision_scheduler import (\n",
    "    WHUSupervisionScheduler\n",
    ")\n",
    "\n",
    "########################\n",
    "## 1. For a quickstart set the following parameters:\n",
    "\n",
    "# Where is the input file located?\n",
    "supervision_input_file_path = 'example/supervision_input.xlsx'\n",
    "\n",
    "# Where to save and what to name the output file?\n",
    "output_file_path = 'basic_schedule.xlsx'\n",
    "\n",
    "# How long to allow the solver to run (in seconds)?\n",
    "timeout = 300  \n",
    "\n",
    "## 2. Run the code below by clicking the \"Run\" button above.\n",
    "\n",
    "## 3. Check the output file for the generated schedule and save the plot if needed.\n",
    "\n",
    "########################\n",
    "\n",
    "\n",
    "\"\"\"Basic scheduling example with default settings.\"\"\"\n",
    "print(\"=\" * 60)\n",
    "\n",
    "# Create scheduler with default settings\n",
    "scheduler = WHUSupervisionScheduler()\n",
    "scheduler.solver_timeout = timeout  # Set solver timeout\n",
    "\n",
    "# Read input file\n",
    "scheduler.read_supervision_file(supervision_input_file_path)\n",
    "\n",
    "# Print summary of input data\n",
    "scheduler.print_summary()\n",
    "\n",
    "# Run scheduling\n",
    "if scheduler.schedule():\n",
    "    # Print solution\n",
    "    scheduler.print_solution()\n",
    "    \n",
    "    # Save to file\n",
    "    scheduler.write_solution_to_file(output_file_path)\n",
    "    print(f\"\\nSchedule saved to '{output_file_path}'\")\n",
    "else:\n",
    "    print(\"\\nNo feasible solution found!\")\n",
    "\n",
    "scheduler.visualize_schedule()"
   ]
  }
 ],
 "metadata": {
  "kernelspec": {
   "display_name": "Python 3",
   "language": "python",
   "name": "python3"
  },
  "language_info": {
   "codemirror_mode": {
    "name": "ipython",
    "version": 3
   },
   "file_extension": ".py",
   "mimetype": "text/x-python",
   "name": "python",
   "nbconvert_exporter": "python",
   "pygments_lexer": "ipython3",
   "version": "3.9.19"
  }
 },
 "nbformat": 4,
 "nbformat_minor": 5
}
